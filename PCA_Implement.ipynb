{
  "nbformat": 4,
  "nbformat_minor": 0,
  "metadata": {
    "colab": {
      "name": "PCA-Implement.ipynb",
      "provenance": [],
      "collapsed_sections": [],
      "include_colab_link": true
    },
    "kernelspec": {
      "name": "python3",
      "display_name": "Python 3"
    }
  },
  "cells": [
    {
      "cell_type": "markdown",
      "metadata": {
        "id": "view-in-github",
        "colab_type": "text"
      },
      "source": [
        "<a href=\"https://colab.research.google.com/github/1712307/ImageProcessingAtUniversity/blob/master/PCA_Implement.ipynb\" target=\"_parent\"><img src=\"https://colab.research.google.com/assets/colab-badge.svg\" alt=\"Open In Colab\"/></a>"
      ]
    },
    {
      "cell_type": "code",
      "metadata": {
        "id": "Q8fMMSY_dkBO",
        "colab_type": "code",
        "colab": {}
      },
      "source": [
        "import numpy as np\n",
        "class PCA:\n",
        "    def __init__(self):\n",
        "        self.e_values = None\n",
        "        self.e_vectors = None\n",
        "        self.mean_data = None\n",
        "\n",
        "    # Find all eigenvalues and eigenvectors\n",
        "    # data -> instances as rows\n",
        "    def prepare(self, data):\n",
        "        # Substract mean\n",
        "        self.mean_data = np.mean(data, axis=0)\n",
        "        adj_data = data - self.mean_data\n",
        "        # Covariance matrix\n",
        "        covariance = np.cov(adj_data.T)\n",
        "        # Eigenstuff\n",
        "        self.e_values, self.e_vectors = np.linalg.eig(covariance)\n",
        "        i = np.argsort(self.e_values)\n",
        "        i = i[::-1]\n",
        "        \n",
        "        #Calculate Eigen vectors and eigen values of data \n",
        "        self.e_vectors = self.e_vectors[:,i]  \n",
        "        self.e_values = self.e_values[i]\n",
        "        \n",
        "    # Project the data into the normal or abnormal subspace\n",
        "    def project(self, data, K_dimensions):\n",
        "        adj_data = data - self.mean_data\n",
        "        # Extract only the top most eigenvectors\n",
        "        e_vectors = self.e_vectors[:,:K_dimensions]\n",
        "        # Return the projected data\n",
        "        return np.dot(adj_data, e_vectors)\n",
        "    \n",
        "    #Calculate final result \n",
        "    def revert(self, projected_data, K_dimensions):\n",
        "        e_vectors = self.e_vectors[:,:K_dimensions]\n",
        "        print(\"Size of K vectors\",e_vectors.shape)\n",
        "        return np.dot(projected_data, e_vectors.T) + self.mean_data\n",
        "    \n",
        "    #Apply all function into data\n",
        "    def run(self, data, K_dimensions):\n",
        "        self.prepare(data)\n",
        "        projected_matrix = self.project(data,K_dimensions)\n",
        "        print(\"Size of projected matrix\",projected_matrix.shape)\n",
        "        return (self.revert(projected_matrix,K_dimensions))"
      ],
      "execution_count": 0,
      "outputs": []
    }
  ]
}